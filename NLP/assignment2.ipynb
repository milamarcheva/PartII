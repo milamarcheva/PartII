{
  "nbformat": 4,
  "nbformat_minor": 0,
  "metadata": {
    "colab": {
      "name": "Assignment2.ipynb",
      "provenance": []
    },
    "kernelspec": {
      "display_name": "Python 3",
      "name": "python3"
    }
  },
  "cells": [
    {
      "cell_type": "markdown",
      "metadata": {
        "id": "AgclCzD-b5ut"
      },
      "source": [
        "##Named Entity Recognition (NER) using a classifier"
      ]
    },
    {
      "cell_type": "code",
      "metadata": {
        "id": "rzK6dkUJq1jy"
      },
      "source": [
        "import pandas as pd\n",
        "import numpy as np"
      ],
      "execution_count": null,
      "outputs": []
    },
    {
      "cell_type": "code",
      "metadata": {
        "id": "zdx1nlRTL2hb"
      },
      "source": [
        "import spacy\n",
        "nlp = spacy.load('en_core_web_sm')"
      ],
      "execution_count": null,
      "outputs": []
    },
    {
      "cell_type": "code",
      "metadata": {
        "id": "iuc9T2GubHq5"
      },
      "source": [
        "from imblearn.over_sampling import SMOTE\n",
        "from sklearn.ensemble import RandomForestClassifier\n",
        "from sklearn.metrics import classification_report\n",
        "from sklearn.metrics import confusion_matrix"
      ],
      "execution_count": null,
      "outputs": []
    },
    {
      "cell_type": "markdown",
      "metadata": {
        "id": "XEJJvkn5cNwo"
      },
      "source": [
        "### Import the training and development data"
      ]
    },
    {
      "cell_type": "code",
      "metadata": {
        "id": "G_0mDDowq6fX"
      },
      "source": [
        "wnuttrain = 'https://storage.googleapis.com/wnut-2017_ner-shared-task/wnut17train_clean_tagged.txt'\n",
        "train = pd.read_table(wnuttrain, header=None, names=['token', 'label', 'bio_only', 'upos'])"
      ],
      "execution_count": null,
      "outputs": []
    },
    {
      "cell_type": "code",
      "metadata": {
        "id": "zEqNCyNwrB0d"
      },
      "source": [
        "wnutdev = 'https://storage.googleapis.com/wnut-2017_ner-shared-task/wnut17dev_clean_tagged.txt'\n",
        "dev = pd.read_table(wnutdev, header=None, names=['token', 'label', 'bio_only', 'upos'])"
      ],
      "execution_count": null,
      "outputs": []
    },
    {
      "cell_type": "markdown",
      "metadata": {
        "id": "PrKkqEuzclYP"
      },
      "source": [
        "###Devise function to exctract all suitable features and store them in copies of the training and development dataframes\n"
      ]
    },
    {
      "cell_type": "code",
      "metadata": {
        "id": "kZf48qFlrWgV"
      },
      "source": [
        "# in order to convert POS tags to integers: get the UPOS tagset\n",
        "pos_vocab = train.upos.unique().tolist()\n",
        "\n",
        "# feature 1: convert POS-tags to integers\n",
        "def pos_index(pos):\n",
        "  ind = pos_vocab.index(pos)\n",
        "  return ind\n",
        "\n",
        "# feature 2: is this a proper noun?\n",
        "def is_propn(pos):\n",
        "  resp = False\n",
        "  if pos=='PROPN':\n",
        "    resp = True\n",
        "  return resp\n",
        "\n",
        "#  feature 3: is the first character a capital letter?\n",
        "def title_case(tok):\n",
        "  resp = False\n",
        "  if tok[0].isupper():\n",
        "    resp = True  # thanks Archie Barrett for spotting a typo here!\n",
        "  return resp\n",
        "\n",
        "# feature 4: token length\n",
        "def tok_len(tok):\n",
        "  tok_len = len(tok)\n",
        "  return tok_len\n",
        "\n",
        "# features 5, 6, 7 extracted after token i s turned into a spacy token:  \n",
        "  # spacy tag (extended pos tagging)\n",
        "  # is the token comprise of alphabetical characters only\n",
        "  # is the token a stop word\n",
        "def get_spacy_doc(t):\n",
        "  ret = ''\n",
        "  doc = nlp(t)\n",
        "  for w in doc:\n",
        "    ret = w\n",
        "  return ret\n",
        "\n",
        "# training labels: convert BIO to integers\n",
        "def bio_index(bio):\n",
        "  ind = 10\n",
        "  if bio=='B':\n",
        "    ind = 0\n",
        "  elif bio=='I':\n",
        "    ind = 1\n",
        "  elif bio=='O':\n",
        "    ind = 2\n",
        "  return ind\n",
        "\n",
        "# pass a data frame through our feature extractor\n",
        "def extract_features(txt_orig, bio=True):\n",
        "  txt = txt_orig.copy()\n",
        "  txt = txt.dropna()\n",
        "\n",
        "  txt['pos_indices'] = [pos_index(u) for u in txt['upos']]\n",
        "  txt['is_propn'] = [is_propn(u) for u in txt['upos']]\n",
        "  txt['title_case'] = [title_case(str(t)) for t in txt['token']]\n",
        "  txt['token_length'] = [tok_len(str(t)) for t in txt['token']]\n",
        "  txt['docs'] = [get_spacy_doc(str(t)) for t in txt['token']]\n",
        "  txt['spacy_tag'] = [t.tag for t in txt['docs']]\n",
        "  txt['is_alpha'] = [t.is_alpha for t in txt['docs']]\n",
        "  txt['is_stop'] = [t.is_stop for t in txt['docs']]\n",
        "\n",
        "  if bio==True:\n",
        "    bioints = [bio_index(b) for b in txt['bio_only']]\n",
        "    txt['bio_only'] = bioints\n",
        "\n",
        "  return txt"
      ],
      "execution_count": null,
      "outputs": []
    },
    {
      "cell_type": "markdown",
      "metadata": {
        "id": "I66nbg9QdBiN"
      },
      "source": [
        "###Extract the features for each dataset"
      ]
    },
    {
      "cell_type": "code",
      "metadata": {
        "id": "2i05rZurstzU"
      },
      "source": [
        "train_copy = extract_features(train)"
      ],
      "execution_count": null,
      "outputs": []
    },
    {
      "cell_type": "code",
      "metadata": {
        "id": "hMKV7mDHrEyd"
      },
      "source": [
        "dev_copy = extract_features(dev)"
      ],
      "execution_count": null,
      "outputs": []
    },
    {
      "cell_type": "markdown",
      "metadata": {
        "id": "zXbZGhB2dLVm"
      },
      "source": [
        "###Prepare the data for training: separate into feature vectors (X) and labels (y).\n",
        "Use oversampling for the training data to account for the significantly larger number of O labels"
      ]
    },
    {
      "cell_type": "code",
      "metadata": {
        "id": "9uB4ZcEstEt2"
      },
      "source": [
        "smote = SMOTE(sampling_strategy='auto')"
      ],
      "execution_count": null,
      "outputs": []
    },
    {
      "cell_type": "code",
      "metadata": {
        "id": "hq5ZeGwIr5xV"
      },
      "source": [
        "X_train = train_copy.drop(['token', 'label', 'bio_only', 'upos', 'docs'], axis=1)\n",
        "y_train = train_copy['bio_only']"
      ],
      "execution_count": null,
      "outputs": []
    },
    {
      "cell_type": "code",
      "metadata": {
        "id": "WKL6_IqitOm1",
        "outputId": "f9fe2eaa-da9b-4e18-cce2-c7676aeee262",
        "colab": {
          "base_uri": "https://localhost:8080/"
        }
      },
      "source": [
        "X_train, y_train = smote.fit_sample(X_train, y_train)"
      ],
      "execution_count": null,
      "outputs": [
        {
          "output_type": "stream",
          "text": [
            "/usr/local/lib/python3.6/dist-packages/sklearn/utils/deprecation.py:87: FutureWarning: Function safe_indexing is deprecated; safe_indexing is deprecated in version 0.22 and will be removed in version 0.24.\n",
            "  warnings.warn(msg, category=FutureWarning)\n",
            "/usr/local/lib/python3.6/dist-packages/sklearn/utils/deprecation.py:87: FutureWarning: Function safe_indexing is deprecated; safe_indexing is deprecated in version 0.22 and will be removed in version 0.24.\n",
            "  warnings.warn(msg, category=FutureWarning)\n"
          ],
          "name": "stderr"
        }
      ]
    },
    {
      "cell_type": "code",
      "metadata": {
        "id": "b7_NbhYcuARd"
      },
      "source": [
        "X_dev = dev_copy.drop(['token', 'label', 'bio_only', 'upos', 'docs'], axis=1)\n",
        "y_dev = dev_copy['bio_only']"
      ],
      "execution_count": null,
      "outputs": []
    },
    {
      "cell_type": "markdown",
      "metadata": {
        "id": "x7DN51EEdpMb"
      },
      "source": [
        "###Train the Random Forest Classifier using the training feature vector and labels"
      ]
    },
    {
      "cell_type": "code",
      "metadata": {
        "id": "uDLV5wlntcfe"
      },
      "source": [
        "rfc = RandomForestClassifier().fit(X_train, y_train)"
      ],
      "execution_count": null,
      "outputs": []
    },
    {
      "cell_type": "markdown",
      "metadata": {
        "id": "rOuZnUbXeKpt"
      },
      "source": [
        "Function to translate the integers 0, 1, 2 to B, I, O"
      ]
    },
    {
      "cell_type": "code",
      "metadata": {
        "id": "i4qVjnA6akJ1"
      },
      "source": [
        "def index_to_bio(ind):\n",
        "  bio='M'\n",
        "  if ind==0:\n",
        "    bio = 'B'\n",
        "  elif ind==1:\n",
        "    bio = 'I'\n",
        "  elif ind==2:\n",
        "    bio = 'O'\n",
        "  return bio"
      ],
      "execution_count": null,
      "outputs": []
    },
    {
      "cell_type": "markdown",
      "metadata": {
        "id": "rtNsGYt0ezhW"
      },
      "source": [
        "###Get the predictions for the development set from the trained model\n"
      ]
    },
    {
      "cell_type": "code",
      "metadata": {
        "id": "P5rrGeZgbCC2"
      },
      "source": [
        "preds = rfc.predict(X_dev)\n",
        "preds_bio = [index_to_bio(i) for i in preds]\n",
        "dev_copy['prediction'] = preds_bio"
      ],
      "execution_count": null,
      "outputs": []
    },
    {
      "cell_type": "markdown",
      "metadata": {
        "id": "q3UOPcpde7qZ"
      },
      "source": [
        "###Compare the number of different values in the golden stanadard label set and the predicted label set. \n",
        "B corresponds to 0, I to 1 and O to 2\n"
      ]
    },
    {
      "cell_type": "code",
      "metadata": {
        "id": "5J7Cek0WzPZ9",
        "outputId": "aaec6d0c-235a-4e8a-9cec-53f091775015",
        "colab": {
          "base_uri": "https://localhost:8080/"
        }
      },
      "source": [
        "y_dev.value_counts()"
      ],
      "execution_count": null,
      "outputs": [
        {
          "output_type": "execute_result",
          "data": {
            "text/plain": [
              "2    14144\n",
              "0      826\n",
              "1      412\n",
              "Name: bio_only, dtype: int64"
            ]
          },
          "metadata": {
            "tags": []
          },
          "execution_count": 295
        }
      ]
    },
    {
      "cell_type": "code",
      "metadata": {
        "id": "SvZiFvLleaaO",
        "outputId": "4419c12c-c17c-4ead-bf09-a9ae7c3b9c90",
        "colab": {
          "base_uri": "https://localhost:8080/"
        }
      },
      "source": [
        "dev_copy['prediction'].value_counts()"
      ],
      "execution_count": null,
      "outputs": [
        {
          "output_type": "execute_result",
          "data": {
            "text/plain": [
              "O    13289\n",
              "B     1395\n",
              "I      698\n",
              "Name: prediction, dtype: int64"
            ]
          },
          "metadata": {
            "tags": []
          },
          "execution_count": 296
        }
      ]
    },
    {
      "cell_type": "markdown",
      "metadata": {
        "id": "1Qh6OToefuE4"
      },
      "source": [
        "###Analyse the classification report and the confusion matrix"
      ]
    },
    {
      "cell_type": "code",
      "metadata": {
        "id": "3VqEb9-jvQLO",
        "outputId": "c095d55a-dcf1-4fcd-f2a4-bf6329450724",
        "colab": {
          "base_uri": "https://localhost:8080/"
        }
      },
      "source": [
        "print(classification_report(y_dev, preds ))"
      ],
      "execution_count": null,
      "outputs": [
        {
          "output_type": "stream",
          "text": [
            "              precision    recall  f1-score   support\n",
            "\n",
            "           0       0.41      0.66      0.50       826\n",
            "           1       0.10      0.23      0.14       412\n",
            "           2       0.98      0.90      0.94     14144\n",
            "\n",
            "    accuracy                           0.87     15382\n",
            "   macro avg       0.49      0.60      0.53     15382\n",
            "weighted avg       0.92      0.87      0.89     15382\n",
            "\n"
          ],
          "name": "stdout"
        }
      ]
    },
    {
      "cell_type": "markdown",
      "metadata": {
        "id": "YODCd2YVyMOB"
      },
      "source": [
        "i-th row and j-th column entry indicates the number of samples with true label being i-th class and prediced label being j-th class.\n",
        "\n",
        "```\n",
        "   B   I   O\n",
        "   0   1   2\n",
        "0  tp  ?   fn    \n",
        "1  ?   tp  fn\n",
        "2  fp  fp  tn\n",
        "```\n"
      ]
    },
    {
      "cell_type": "code",
      "metadata": {
        "id": "KWi9c21VwR1P",
        "outputId": "2ffc3ac4-6d5b-4b0e-bb84-07eb77588ec6",
        "colab": {
          "base_uri": "https://localhost:8080/"
        }
      },
      "source": [
        "confusion_matrix(y_dev, preds, labels=[0, 1, 2])"
      ],
      "execution_count": null,
      "outputs": [
        {
          "output_type": "execute_result",
          "data": {
            "text/plain": [
              "array([[  537,   134,   155],\n",
              "       [  135,    84,   193],\n",
              "       [  722,   517, 12905]])"
            ]
          },
          "metadata": {
            "tags": []
          },
          "execution_count": 151
        }
      ]
    },
    {
      "cell_type": "markdown",
      "metadata": {
        "id": "IXF21VV-f3Lp"
      },
      "source": [
        "### Import the testing data\n"
      ]
    },
    {
      "cell_type": "code",
      "metadata": {
        "id": "ncXKTD2wf9qK"
      },
      "source": [
        "wnuttest = 'https://storage.googleapis.com/wnut-2017_ner-shared-task/wnut17test_clean_tagged.txt'\n",
        "testset = pd.read_table(wnuttest, header=None, names=['token', 'upos']).dropna()"
      ],
      "execution_count": null,
      "outputs": []
    },
    {
      "cell_type": "markdown",
      "metadata": {
        "id": "aG4OgDD3f-Pa"
      },
      "source": [
        "### Extract the features of the testing data"
      ]
    },
    {
      "cell_type": "code",
      "metadata": {
        "id": "gCOxqYY3gCtD"
      },
      "source": [
        "test_copy = extract_features(testset, bio=False)"
      ],
      "execution_count": null,
      "outputs": []
    },
    {
      "cell_type": "markdown",
      "metadata": {
        "id": "pdqMxBDzg_tO"
      },
      "source": [
        "###Prepare the test feature vector and use it with the defined RFC model to get predictions"
      ]
    },
    {
      "cell_type": "code",
      "metadata": {
        "id": "-INMeXcJg67i"
      },
      "source": [
        "X_test = test_copy.drop(['token', 'upos', 'docs'], axis=1)\n",
        "test_preds = rfc.predict(X_test)\n",
        "test_preds_bio = [index_to_bio(i) for i in test_preds]\n",
        "test_copy['prediction'] = test_preds_bio"
      ],
      "execution_count": null,
      "outputs": []
    },
    {
      "cell_type": "code",
      "metadata": {
        "id": "ktTAF_h6i9tS",
        "outputId": "0750d513-5d74-4735-f263-050d15070d68",
        "colab": {
          "base_uri": "https://localhost:8080/",
          "height": 111
        }
      },
      "source": [
        "test_copy.head(2)"
      ],
      "execution_count": null,
      "outputs": [
        {
          "output_type": "execute_result",
          "data": {
            "text/html": [
              "<div>\n",
              "<style scoped>\n",
              "    .dataframe tbody tr th:only-of-type {\n",
              "        vertical-align: middle;\n",
              "    }\n",
              "\n",
              "    .dataframe tbody tr th {\n",
              "        vertical-align: top;\n",
              "    }\n",
              "\n",
              "    .dataframe thead th {\n",
              "        text-align: right;\n",
              "    }\n",
              "</style>\n",
              "<table border=\"1\" class=\"dataframe\">\n",
              "  <thead>\n",
              "    <tr style=\"text-align: right;\">\n",
              "      <th></th>\n",
              "      <th>token</th>\n",
              "      <th>upos</th>\n",
              "      <th>pos_indices</th>\n",
              "      <th>is_propn</th>\n",
              "      <th>title_case</th>\n",
              "      <th>token_length</th>\n",
              "      <th>docs</th>\n",
              "      <th>spacy_tag</th>\n",
              "      <th>is_alpha</th>\n",
              "      <th>is_stop</th>\n",
              "      <th>prediction</th>\n",
              "    </tr>\n",
              "  </thead>\n",
              "  <tbody>\n",
              "    <tr>\n",
              "      <th>0</th>\n",
              "      <td>&amp;</td>\n",
              "      <td>CCONJ</td>\n",
              "      <td>16</td>\n",
              "      <td>False</td>\n",
              "      <td>False</td>\n",
              "      <td>1</td>\n",
              "      <td>&amp;</td>\n",
              "      <td>17571114184892886314</td>\n",
              "      <td>False</td>\n",
              "      <td>False</td>\n",
              "      <td>O</td>\n",
              "    </tr>\n",
              "    <tr>\n",
              "      <th>1</th>\n",
              "      <td>gt</td>\n",
              "      <td>X</td>\n",
              "      <td>6</td>\n",
              "      <td>False</td>\n",
              "      <td>False</td>\n",
              "      <td>2</td>\n",
              "      <td>gt</td>\n",
              "      <td>15794550382381185553</td>\n",
              "      <td>True</td>\n",
              "      <td>False</td>\n",
              "      <td>O</td>\n",
              "    </tr>\n",
              "  </tbody>\n",
              "</table>\n",
              "</div>"
            ],
            "text/plain": [
              "  token   upos  pos_indices  ...  is_alpha  is_stop  prediction\n",
              "0     &  CCONJ           16  ...     False    False           O\n",
              "1    gt      X            6  ...      True    False           O\n",
              "\n",
              "[2 rows x 11 columns]"
            ]
          },
          "metadata": {
            "tags": []
          },
          "execution_count": 201
        }
      ]
    },
    {
      "cell_type": "markdown",
      "metadata": {
        "id": "4RM489p_iNqg"
      },
      "source": [
        "### Drop the feature columns and export the test data with the predictions"
      ]
    },
    {
      "cell_type": "code",
      "metadata": {
        "id": "brH1AWQ6jMuz",
        "outputId": "7d5f79ca-76c6-4ce7-d067-6442effed662",
        "colab": {
          "base_uri": "https://localhost:8080/",
          "height": 111
        }
      },
      "source": [
        "test_result = test_copy.drop(['pos_indices',\t'is_propn', 'title_case',\t'token_length',\t'docs',\t'spacy_tag',\t'is_alpha',\t'is_stop'], axis=1)\n",
        "test_result.head(2)"
      ],
      "execution_count": null,
      "outputs": [
        {
          "output_type": "execute_result",
          "data": {
            "text/html": [
              "<div>\n",
              "<style scoped>\n",
              "    .dataframe tbody tr th:only-of-type {\n",
              "        vertical-align: middle;\n",
              "    }\n",
              "\n",
              "    .dataframe tbody tr th {\n",
              "        vertical-align: top;\n",
              "    }\n",
              "\n",
              "    .dataframe thead th {\n",
              "        text-align: right;\n",
              "    }\n",
              "</style>\n",
              "<table border=\"1\" class=\"dataframe\">\n",
              "  <thead>\n",
              "    <tr style=\"text-align: right;\">\n",
              "      <th></th>\n",
              "      <th>token</th>\n",
              "      <th>upos</th>\n",
              "      <th>prediction</th>\n",
              "    </tr>\n",
              "  </thead>\n",
              "  <tbody>\n",
              "    <tr>\n",
              "      <th>0</th>\n",
              "      <td>&amp;</td>\n",
              "      <td>CCONJ</td>\n",
              "      <td>O</td>\n",
              "    </tr>\n",
              "    <tr>\n",
              "      <th>1</th>\n",
              "      <td>gt</td>\n",
              "      <td>X</td>\n",
              "      <td>O</td>\n",
              "    </tr>\n",
              "  </tbody>\n",
              "</table>\n",
              "</div>"
            ],
            "text/plain": [
              "  token   upos prediction\n",
              "0     &  CCONJ          O\n",
              "1    gt      X          O"
            ]
          },
          "metadata": {
            "tags": []
          },
          "execution_count": 205
        }
      ]
    },
    {
      "cell_type": "code",
      "metadata": {
        "id": "XlsSrAMZkEl0",
        "outputId": "17513d76-8841-48ae-e1d1-7efaa4e68175",
        "colab": {
          "base_uri": "https://localhost:8080/"
        }
      },
      "source": [
        "from google.colab import drive\n",
        "drive.mount('drive')"
      ],
      "execution_count": null,
      "outputs": [
        {
          "output_type": "stream",
          "text": [
            "Mounted at drive\n"
          ],
          "name": "stdout"
        }
      ]
    },
    {
      "cell_type": "code",
      "metadata": {
        "id": "o7WUAD9Ajy3x"
      },
      "source": [
        "test_result.to_csv('drive/My Drive/Colab Notebooks/testset_mmm67.csv', index=False)"
      ],
      "execution_count": null,
      "outputs": []
    }
  ]
}