{
 "cells": [
  {
   "cell_type": "markdown",
   "metadata": {},
   "source": [
    "## Algortihm for fidning the LongestCommonSubsequence of two strings"
   ]
  },
  {
   "cell_type": "markdown",
   "metadata": {},
   "source": [
    "The function below utilizes dynamic programming to return the LongestCommonSubsequence between two strings. The general approach is building up a dynamic programming table which encodes infromation about the matches between the strings. Using this table we can backtrack starting from its rightmost bottomost cell and rebuild the LCS. \n",
    "\n",
    "Example: LCS of TACGTA and ACAGGA is ACGA"
   ]
  },
  {
   "cell_type": "code",
   "execution_count": 30,
   "metadata": {},
   "outputs": [],
   "source": [
    "def getLCS(v,w):\n",
    "    \"\"\"\n",
    "    Returns the LCS of the two strings v and w\n",
    "    \n",
    "    Inputs:\n",
    "        v (str): first string\n",
    "        w (str): second string\n",
    "    Parameters:\n",
    "        m (int), n(int): lenght of v and w\n",
    "        L (int[][]): dynamic programming table\n",
    "    Returns:\n",
    "        lcs (str): the longest common subsequence of the two input strings\n",
    "    \"\"\"\n",
    "    \n",
    "    m = len(v)\n",
    "    n = len(w)\n",
    "    \n",
    "    L = [[0 for i in range(n+1)] for i in range(m+1)]\n",
    "    \n",
    "    # Populating L\n",
    "    for i in range(m+1):\n",
    "        for j in range(n+1):\n",
    "            if i == 0 or j == 0:\n",
    "                L[i][j] = 0\n",
    "            elif v[i-1] == w[j-1]:\n",
    "                L[i][j] = L[i-1][j-1]+1\n",
    "            else:\n",
    "                L[i][j] = max(L[i][j-1], L[i-1][j])\n",
    "                \n",
    "    # The lenght of the longest substring can now be found at the rightmost bottomomost cell \n",
    "    lenLCS = L[m][n]\n",
    "    \n",
    "    lenLCS\n",
    "    \n",
    "    lcs = [\"\"]*(lenLCS+1)\n",
    "    lcs[lenLCS] = \"\\0\"\n",
    "    \n",
    "    # Traverse L starting at the rightmost bottomomost cell and rebuild the LCS in lcs starting from the last character\n",
    "    i = m\n",
    "    j = n\n",
    "    while i > 0 and j > 0:\n",
    "        # Add the character to lcs if there is a match\n",
    "        if v[i-1] == w[j-1]:\n",
    "            lcs[lenLCS - 1] = v[i-1]\n",
    "            i-=1\n",
    "            j-=1\n",
    "            lenLCS-=1\n",
    "        # Continue in the more promising direction if there's no match\n",
    "        elif  L[i-1][j] > L[i][j-1]:\n",
    "            i-=1\n",
    "        else:\n",
    "            j-=1\n",
    "        \n",
    "    return \"\".join(lcs)"
   ]
  },
  {
   "cell_type": "code",
   "execution_count": 31,
   "metadata": {},
   "outputs": [],
   "source": [
    "v = \"ATGTTAT\"\n",
    "w = \"ATCGTAC\""
   ]
  },
  {
   "cell_type": "code",
   "execution_count": 32,
   "metadata": {},
   "outputs": [
    {
     "name": "stdout",
     "output_type": "stream",
     "text": [
      "ATGTA\u0000\n"
     ]
    }
   ],
   "source": [
    "print(getLCS(v,w))"
   ]
  },
  {
   "cell_type": "code",
   "execution_count": 33,
   "metadata": {},
   "outputs": [],
   "source": [
    "x = \"ATCTGATC\"\n",
    "y = \"TGCATAC\""
   ]
  },
  {
   "cell_type": "code",
   "execution_count": 34,
   "metadata": {},
   "outputs": [
    {
     "name": "stdout",
     "output_type": "stream",
     "text": [
      "TGATC\u0000\n"
     ]
    }
   ],
   "source": [
    "print (getLCS(x,y))"
   ]
  },
  {
   "cell_type": "code",
   "execution_count": null,
   "metadata": {},
   "outputs": [],
   "source": []
  }
 ],
 "metadata": {
  "kernelspec": {
   "display_name": "Python 3",
   "language": "python",
   "name": "python3"
  },
  "language_info": {
   "codemirror_mode": {
    "name": "ipython",
    "version": 3
   },
   "file_extension": ".py",
   "mimetype": "text/x-python",
   "name": "python",
   "nbconvert_exporter": "python",
   "pygments_lexer": "ipython3",
   "version": "3.8.3"
  }
 },
 "nbformat": 4,
 "nbformat_minor": 4
}
