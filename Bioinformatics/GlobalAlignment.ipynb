{
  "nbformat": 4,
  "nbformat_minor": 0,
  "metadata": {
    "kernelspec": {
      "display_name": "Python 3",
      "language": "python",
      "name": "python3"
    },
    "language_info": {
      "codemirror_mode": {
        "name": "ipython",
        "version": 3
      },
      "file_extension": ".py",
      "mimetype": "text/x-python",
      "name": "python",
      "nbconvert_exporter": "python",
      "pygments_lexer": "ipython3",
      "version": "3.8.3"
    },
    "colab": {
      "name": "GlobalAlignment.ipynb",
      "provenance": [],
      "collapsed_sections": []
    }
  },
  "cells": [
    {
      "cell_type": "code",
      "metadata": {
        "id": "HhkaNYVF-GXn"
      },
      "source": [
        "def set_global_alignment_table(v, w, s):\n",
        "    \"\"\"\n",
        "    Returns the dymanic programming table for the global alignment of the two strings v and w\n",
        "    \n",
        "    Inputs:\n",
        "        v (str): first string\n",
        "        w (str): second string\n",
        "        s (int[]): scoring matrix, scores in that order: mismatch, match, gap\n",
        "    Parameters:\n",
        "        m (int), n(int): lenght of v and w\n",
        "        M (int[][]): dynamic programming table\n",
        "    Returns:\n",
        "        M (int[][]): dynamic programming table, populated with scores\n",
        "    \"\"\"\n",
        "\n",
        "    m = len(v)\n",
        "    n = len(w)\n",
        "    M = [[0 for i in range(m+1)] for j in range(n+1)]    \n",
        "            \n",
        "    for i in range(n+1):\n",
        "        #equivalent to matching w with empty string\n",
        "        M[i][0] = i*s[2]\n",
        "        \n",
        "    for i in range(m+1):\n",
        "        #equivalent to matching v with empty string\n",
        "        M[0][i] = i*s[2]                \n",
        "    \n",
        "    for i in range(1,n+1):\n",
        "        for j in range(1,m+1):\n",
        "            # horizontal or vertical movement incur the gap penalty; diagonal incurs either match or misatch score\n",
        "            u = M[i-1][j] + s[2] #up\n",
        "            l = M[i][j-1] + s[2] #left\n",
        "            d = M[i-1][j-1] + s[int(v[j-1]==w[i-1])]#diagonal\n",
        "            \n",
        "            maxScore = max(u, l, d)\n",
        "            M[i][j] = maxScore\n",
        "\n",
        "    return M"
      ],
      "execution_count": 136,
      "outputs": []
    },
    {
      "cell_type": "code",
      "metadata": {
        "id": "2VQCs_dW-GXs"
      },
      "source": [
        "def get_global_alignment(v, w, M):\n",
        "    \"\"\"\n",
        "    Returns the global alignment of each string with the other one\n",
        "    \n",
        "    Inputs:\n",
        "        v (str): first string\n",
        "        w (str): second string\n",
        "        M (int[][]): dynamic programming table, populated with scores for the \n",
        "                     alignment of v and w based on some scoring scheme\n",
        "    Parameters:\n",
        "        len_1(int), len_2(int): initialized to the max length of v and w, used \n",
        "                                to keep track of the index in the result strings\n",
        "        s1(char[]), s2 (char[]): storing th characters incrementally added to \n",
        "                                 each result string \n",
        "        i(int), j(int): iterators over M in the while loop\n",
        "        u(int), l(int), d(int): store the neighbour values of the current cell\n",
        "        maxScore(int):  stores the current hughest value of a neighbour\n",
        "        res1(str), res2(str): result strings\n",
        "    Returns:\n",
        "        res1(str), res2(str): result strings\n",
        "    \"\"\"\n",
        "\n",
        "    len_1 = max(len(v), len(w))+1\n",
        "    len_2 = max(len(v), len(w))+1\n",
        "    s1 = [\"\"]*(len_1)\n",
        "    s2 = [\"\"]*(len_2)\n",
        "\n",
        "    i=len(w)\n",
        "    j=len(v)\n",
        "    \n",
        "    while(i>0 or j>0):\n",
        "        \n",
        "      u = M[i-1][j] #up\n",
        "      l = M[i][j-1] #left\n",
        "      d = M[i-1][j-1] #diagonal\n",
        "        \n",
        "      maxScore= max(u,l,d)\n",
        "        \n",
        "      if (i>0 and j>0) and v[j-1] == w[i-1]:\n",
        "        s1[len_1 - 1] = v[j-1]\n",
        "        s2[len_2 - 1] = w[i-1]\n",
        "        i-=1\n",
        "        j-=1\n",
        "        len_1-=1\n",
        "        len_2-=1\n",
        "\n",
        "      elif l==maxScore:\n",
        "        s1[len_1 - 1] = v[j-1]\n",
        "        s2[len_2 - 1] = '_'        \n",
        "        j-=1\n",
        "        len_1-=1\n",
        "        len_2-=1\n",
        "        \n",
        "      elif u==maxScore:\n",
        "        s1[len_1 - 1] = '_'\n",
        "        s2[len_2 - 1] = w[i-1]\n",
        "        i-=1\n",
        "        len_1-=1\n",
        "        len_2-=1\n",
        "            \n",
        "      elif d==maxScore:\n",
        "        s1[len_1 - 1] = v[j-1]\n",
        "        s2[len_2 - 1] = w[i-1]\n",
        "        i-=1\n",
        "        j-=1\n",
        "        len_1-=1\n",
        "        len_2-=1\n",
        "\n",
        "    res1 = \"\".join(s1)\n",
        "    res2 = \"\".join(s2)\n",
        "\n",
        "    return res1, res2\n",
        "    "
      ],
      "execution_count": 137,
      "outputs": []
    },
    {
      "cell_type": "markdown",
      "metadata": {
        "id": "AYFpk_vAbrLt"
      },
      "source": [
        "Scoring matrix indices:\n",
        "s[0] --> mismatch, s[1] --> match, s[2] --> gap\n"
      ]
    },
    {
      "cell_type": "code",
      "metadata": {
        "id": "Zz0kRH6V-GXv",
        "outputId": "c1faff26-f358-4fb2-88bf-730dbaedc3e6",
        "colab": {
          "base_uri": "https://localhost:8080/"
        }
      },
      "source": [
        "v1 = 'ATGCT'\n",
        "w1 = 'AGCT'\n",
        "sm1= [-1, 1, -2] \n",
        "M1 = set_global_alignment_table(v1, w1, sm1)\n",
        "get_global_alignment(v1, w1, M1)"
      ],
      "execution_count": 147,
      "outputs": [
        {
          "output_type": "execute_result",
          "data": {
            "text/plain": [
              "('ATGCT', 'A_GCT')"
            ]
          },
          "metadata": {
            "tags": []
          },
          "execution_count": 147
        }
      ]
    },
    {
      "cell_type": "code",
      "metadata": {
        "id": "47WEY3xN-GX1",
        "outputId": "ad33accd-0780-4ed3-b05f-e9b53d2a2779",
        "colab": {
          "base_uri": "https://localhost:8080/"
        }
      },
      "source": [
        "sm2 = [-3, 5, -4] \n",
        "v2 = 'CGTGAA'\n",
        "w2 = 'GACTTAC'\n",
        "M2 = set_global_alignment_table(v2, w2, sm2)\n",
        "get_global_alignment(v2,w2,M2)"
      ],
      "execution_count": 151,
      "outputs": [
        {
          "output_type": "execute_result",
          "data": {
            "text/plain": [
              "('__CGTGAA', 'GACTT_AC')"
            ]
          },
          "metadata": {
            "tags": []
          },
          "execution_count": 151
        }
      ]
    }
  ]
}